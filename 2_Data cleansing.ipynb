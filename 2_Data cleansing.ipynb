{
 "cells": [
  {
   "cell_type": "code",
   "execution_count": 1,
   "metadata": {},
   "outputs": [],
   "source": [
    "import numpy as np\n",
    "import pandas as pd\n",
    "import math\n",
    "import sklearn\n",
    "import sklearn.preprocessing\n",
    "import datetime\n",
    "pd.options.mode.chained_assignment = None  "
   ]
  },
  {
   "cell_type": "code",
   "execution_count": 2,
   "metadata": {},
   "outputs": [
    {
     "data": {
      "text/html": [
       "<div>\n",
       "<style scoped>\n",
       "    .dataframe tbody tr th:only-of-type {\n",
       "        vertical-align: middle;\n",
       "    }\n",
       "\n",
       "    .dataframe tbody tr th {\n",
       "        vertical-align: top;\n",
       "    }\n",
       "\n",
       "    .dataframe thead th {\n",
       "        text-align: right;\n",
       "    }\n",
       "</style>\n",
       "<table border=\"1\" class=\"dataframe\">\n",
       "  <thead>\n",
       "    <tr style=\"text-align: right;\">\n",
       "      <th></th>\n",
       "      <th>id</th>\n",
       "      <th>eom</th>\n",
       "      <th>prc</th>\n",
       "      <th>me</th>\n",
       "      <th>ret</th>\n",
       "      <th>ret_exc</th>\n",
       "      <th>ret_exc_lead1m</th>\n",
       "      <th>niq_su</th>\n",
       "      <th>ret_6_1</th>\n",
       "      <th>ret_12_1</th>\n",
       "      <th>...</th>\n",
       "      <th>betabab_1260d</th>\n",
       "      <th>noa_at</th>\n",
       "      <th>mispricing_mgmt</th>\n",
       "      <th>seas_6_10na</th>\n",
       "      <th>cop_atl1</th>\n",
       "      <th>prc_highprc_252d</th>\n",
       "      <th>ocf_at</th>\n",
       "      <th>saleq_su</th>\n",
       "      <th>dbnetis_at</th>\n",
       "      <th>netdebt_me</th>\n",
       "    </tr>\n",
       "  </thead>\n",
       "  <tbody>\n",
       "    <tr>\n",
       "      <th>0</th>\n",
       "      <td>comp_001166_02W</td>\n",
       "      <td>1999-07-31</td>\n",
       "      <td>7.492072</td>\n",
       "      <td>265.151983</td>\n",
       "      <td>0.068365</td>\n",
       "      <td>0.064565</td>\n",
       "      <td>-0.066388</td>\n",
       "      <td>-0.211288</td>\n",
       "      <td>NaN</td>\n",
       "      <td>NaN</td>\n",
       "      <td>...</td>\n",
       "      <td>NaN</td>\n",
       "      <td>0.607343</td>\n",
       "      <td>NaN</td>\n",
       "      <td>NaN</td>\n",
       "      <td>0.200825</td>\n",
       "      <td>NaN</td>\n",
       "      <td>-0.047722</td>\n",
       "      <td>-0.797858</td>\n",
       "      <td>-0.03544</td>\n",
       "      <td>0.519617</td>\n",
       "    </tr>\n",
       "    <tr>\n",
       "      <th>1</th>\n",
       "      <td>comp_001166_02W</td>\n",
       "      <td>1999-08-31</td>\n",
       "      <td>7.023910</td>\n",
       "      <td>248.583248</td>\n",
       "      <td>-0.062488</td>\n",
       "      <td>-0.066388</td>\n",
       "      <td>0.178763</td>\n",
       "      <td>-0.211288</td>\n",
       "      <td>NaN</td>\n",
       "      <td>NaN</td>\n",
       "      <td>...</td>\n",
       "      <td>NaN</td>\n",
       "      <td>0.607343</td>\n",
       "      <td>NaN</td>\n",
       "      <td>NaN</td>\n",
       "      <td>0.200825</td>\n",
       "      <td>NaN</td>\n",
       "      <td>-0.047722</td>\n",
       "      <td>-0.797858</td>\n",
       "      <td>-0.03544</td>\n",
       "      <td>0.553442</td>\n",
       "    </tr>\n",
       "    <tr>\n",
       "      <th>2</th>\n",
       "      <td>comp_001166_02W</td>\n",
       "      <td>1999-09-30</td>\n",
       "      <td>8.306919</td>\n",
       "      <td>293.990256</td>\n",
       "      <td>0.182663</td>\n",
       "      <td>0.178763</td>\n",
       "      <td>-0.029641</td>\n",
       "      <td>-0.211288</td>\n",
       "      <td>NaN</td>\n",
       "      <td>NaN</td>\n",
       "      <td>...</td>\n",
       "      <td>NaN</td>\n",
       "      <td>0.607343</td>\n",
       "      <td>NaN</td>\n",
       "      <td>NaN</td>\n",
       "      <td>0.200825</td>\n",
       "      <td>NaN</td>\n",
       "      <td>-0.047722</td>\n",
       "      <td>-0.797858</td>\n",
       "      <td>-0.03544</td>\n",
       "      <td>0.469985</td>\n",
       "    </tr>\n",
       "    <tr>\n",
       "      <th>3</th>\n",
       "      <td>comp_001166_02W</td>\n",
       "      <td>1999-10-31</td>\n",
       "      <td>8.093089</td>\n",
       "      <td>302.159123</td>\n",
       "      <td>-0.025741</td>\n",
       "      <td>-0.029641</td>\n",
       "      <td>0.974577</td>\n",
       "      <td>0.157763</td>\n",
       "      <td>NaN</td>\n",
       "      <td>NaN</td>\n",
       "      <td>...</td>\n",
       "      <td>NaN</td>\n",
       "      <td>0.659876</td>\n",
       "      <td>NaN</td>\n",
       "      <td>NaN</td>\n",
       "      <td>0.321979</td>\n",
       "      <td>NaN</td>\n",
       "      <td>0.093191</td>\n",
       "      <td>1.315548</td>\n",
       "      <td>-0.03908</td>\n",
       "      <td>0.444769</td>\n",
       "    </tr>\n",
       "    <tr>\n",
       "      <th>4</th>\n",
       "      <td>comp_001166_02W</td>\n",
       "      <td>1999-11-30</td>\n",
       "      <td>16.009565</td>\n",
       "      <td>634.008234</td>\n",
       "      <td>0.978177</td>\n",
       "      <td>0.974577</td>\n",
       "      <td>0.481106</td>\n",
       "      <td>0.157763</td>\n",
       "      <td>NaN</td>\n",
       "      <td>NaN</td>\n",
       "      <td>...</td>\n",
       "      <td>NaN</td>\n",
       "      <td>0.659876</td>\n",
       "      <td>NaN</td>\n",
       "      <td>NaN</td>\n",
       "      <td>0.321979</td>\n",
       "      <td>NaN</td>\n",
       "      <td>0.093191</td>\n",
       "      <td>1.315548</td>\n",
       "      <td>-0.03908</td>\n",
       "      <td>0.212792</td>\n",
       "    </tr>\n",
       "  </tbody>\n",
       "</table>\n",
       "<p>5 rows × 79 columns</p>\n",
       "</div>"
      ],
      "text/plain": [
       "                id        eom        prc          me       ret   ret_exc  \\\n",
       "0  comp_001166_02W 1999-07-31   7.492072  265.151983  0.068365  0.064565   \n",
       "1  comp_001166_02W 1999-08-31   7.023910  248.583248 -0.062488 -0.066388   \n",
       "2  comp_001166_02W 1999-09-30   8.306919  293.990256  0.182663  0.178763   \n",
       "3  comp_001166_02W 1999-10-31   8.093089  302.159123 -0.025741 -0.029641   \n",
       "4  comp_001166_02W 1999-11-30  16.009565  634.008234  0.978177  0.974577   \n",
       "\n",
       "   ret_exc_lead1m    niq_su  ret_6_1  ret_12_1  ...  betabab_1260d    noa_at  \\\n",
       "0       -0.066388 -0.211288      NaN       NaN  ...            NaN  0.607343   \n",
       "1        0.178763 -0.211288      NaN       NaN  ...            NaN  0.607343   \n",
       "2       -0.029641 -0.211288      NaN       NaN  ...            NaN  0.607343   \n",
       "3        0.974577  0.157763      NaN       NaN  ...            NaN  0.659876   \n",
       "4        0.481106  0.157763      NaN       NaN  ...            NaN  0.659876   \n",
       "\n",
       "   mispricing_mgmt  seas_6_10na  cop_atl1  prc_highprc_252d    ocf_at  \\\n",
       "0              NaN          NaN  0.200825               NaN -0.047722   \n",
       "1              NaN          NaN  0.200825               NaN -0.047722   \n",
       "2              NaN          NaN  0.200825               NaN -0.047722   \n",
       "3              NaN          NaN  0.321979               NaN  0.093191   \n",
       "4              NaN          NaN  0.321979               NaN  0.093191   \n",
       "\n",
       "   saleq_su  dbnetis_at  netdebt_me  \n",
       "0 -0.797858    -0.03544    0.519617  \n",
       "1 -0.797858    -0.03544    0.553442  \n",
       "2 -0.797858    -0.03544    0.469985  \n",
       "3  1.315548    -0.03908    0.444769  \n",
       "4  1.315548    -0.03908    0.212792  \n",
       "\n",
       "[5 rows x 79 columns]"
      ]
     },
     "execution_count": 2,
     "metadata": {},
     "output_type": "execute_result"
    }
   ],
   "source": [
    "#import dataframe\n",
    "df = pd.read_csv(r\"C:\\Users\\krist\\Documents\\Data\\ger_factor_data_short_copy.csv\", dtype ={\"comp_tpci\": str})\n",
    "df[\"eom\"] = pd.to_datetime(df[\"eom\"])    #convert to date format\n",
    "df.head()"
   ]
  },
  {
   "cell_type": "markdown",
   "metadata": {},
   "source": [
    "### Filter out penny stocks\n",
    "\n",
    "The data sample is limited to large German stocks with a market capitalisation of at least USD 25 million and a minimum share price of USD 5, thus excluding penny stocks"
   ]
  },
  {
   "cell_type": "code",
   "execution_count": 23,
   "metadata": {},
   "outputs": [],
   "source": [
    "# Drop all observations with stock price < 5 USD:\n",
    "df = df.loc[df[\"prc\"] >= 5]\n",
    "# Drop all observations where the market capitalisation < 25mio USD:\n",
    "df = df.loc[df[\"me\"] >= 25]"
   ]
  },
  {
   "cell_type": "markdown",
   "metadata": {},
   "source": [
    "### Treating missing values\n",
    "\n",
    "Only the independent variables with less than 25 per cent missing values are retained. The remaining missing values are replaced with the with the cross-sectional median at each month for each stock in line with Gu, Kelly, and Xiu (2020)."
   ]
  },
  {
   "cell_type": "markdown",
   "metadata": {},
   "source": [
    "- Drop observations where the variable of interest is missing"
   ]
  },
  {
   "cell_type": "code",
   "execution_count": 4,
   "metadata": {
    "scrolled": true
   },
   "outputs": [],
   "source": [
    "df = df.dropna( how='any',subset=[\"ret_exc_lead1m\"])"
   ]
  },
  {
   "cell_type": "markdown",
   "metadata": {},
   "source": [
    "- Inspect variables with the most missing values:"
   ]
  },
  {
   "cell_type": "code",
   "execution_count": 5,
   "metadata": {},
   "outputs": [
    {
     "data": {
      "text/plain": [
       "seas_6_10na         177345\n",
       "rd_me               145890\n",
       "rd_sale             137350\n",
       "saleq_su            123755\n",
       "ocfq_saleq_std      118058\n",
       "ni_inc8q            112203\n",
       "dsale_dsga          103839\n",
       "niq_su              103127\n",
       "capex_abn            93484\n",
       "mispricing_mgmt      91853\n",
       "zero_trades_252d     84636\n",
       "qmj_prof             84116\n",
       "ami_126d             83213\n",
       "turnover_126d        81295\n",
       "dolvol_126d          81249\n",
       "niq_at               80134\n",
       "div12m_me            78953\n",
       "betabab_1260d        77618\n",
       "fcf_me               77383\n",
       "capx_gr1a            70693\n",
       "emp_gr1.1            61633\n",
       "emp_gr1              61633\n",
       "dsale_dinv           57218\n",
       "ni_ivol              55833\n",
       "f_score              54562\n",
       "beta_60m             53243\n",
       "dsale_drec           52983\n",
       "taccruals_ni         42464\n",
       "cowc_gr1a            42250\n",
       "noa_at               42019\n",
       "cop_atl1             41654\n",
       "taccruals_at         41366\n",
       "oaccruals_at         40256\n",
       "gp_bev               39453\n",
       "ca_cl                34859\n",
       "caliq_cl             34841\n",
       "sale_gr3             32946\n",
       "pi_nix               32246\n",
       "rvol_21d             29653\n",
       "rmax1_21d            29653\n",
       "debt_gr1             28724\n",
       "ret_12_7             28372\n",
       "ret_12_1             28359\n",
       "lnoa_gr1a            27782\n",
       "netdebt_me           24688\n",
       "debt_me              24688\n",
       "ret_9_1              24302\n",
       "ivol_capm_252d       24047\n",
       "prc_highprc_252d     24047\n",
       "be_me                23607\n",
       "sale_me              22505\n",
       "bidaskhl_21d         22222\n",
       "ni_me                22112\n",
       "ocf_debt             22001\n",
       "ret_6_1              20093\n",
       "ret_6_0              19796\n",
       "inv_gr1a             19160\n",
       "cash_gr1a            17535\n",
       "chcsho_12m           17410\n",
       "debtlt_gr1a          14295\n",
       "ret_1_0              11708\n",
       "be_gr1a              11036\n",
       "sale_gr1             10944\n",
       "tax_gr1a             10143\n",
       "ope_be                8582\n",
       "dbnetis_at            8464\n",
       "at_gr1                8367\n",
       "sale_bev              4863\n",
       "ocf_at                2462\n",
       "ebit_sale             2416\n",
       "ni_be                 1691\n",
       "age                      0\n",
       "eom                      0\n",
       "ret_exc_lead1m           0\n",
       "ret_exc                  0\n",
       "ret                      0\n",
       "me                       0\n",
       "prc                      0\n",
       "id                       0\n",
       "dtype: int64"
      ]
     },
     "execution_count": 5,
     "metadata": {},
     "output_type": "execute_result"
    }
   ],
   "source": [
    "pd.set_option('display.max_rows',None)\n",
    "df.isna().sum().sort_values(ascending = False)"
   ]
  },
  {
   "cell_type": "markdown",
   "metadata": {},
   "source": [
    "- Drop the variables with more than 25% missing values"
   ]
  },
  {
   "cell_type": "code",
   "execution_count": 7,
   "metadata": {},
   "outputs": [],
   "source": [
    "limitPer = len(df) * .75\n",
    "df = df.dropna(thresh=limitPer, axis=1)"
   ]
  },
  {
   "cell_type": "markdown",
   "metadata": {},
   "source": [
    "- Inspect remaining variables:"
   ]
  },
  {
   "cell_type": "code",
   "execution_count": 8,
   "metadata": {},
   "outputs": [
    {
     "data": {
      "text/plain": [
       "f_score             54562\n",
       "beta_60m            53243\n",
       "dsale_drec          52983\n",
       "taccruals_ni        42464\n",
       "cowc_gr1a           42250\n",
       "noa_at              42019\n",
       "cop_atl1            41654\n",
       "taccruals_at        41366\n",
       "oaccruals_at        40256\n",
       "gp_bev              39453\n",
       "ca_cl               34859\n",
       "caliq_cl            34841\n",
       "sale_gr3            32946\n",
       "pi_nix              32246\n",
       "rmax1_21d           29653\n",
       "rvol_21d            29653\n",
       "debt_gr1            28724\n",
       "ret_12_7            28372\n",
       "ret_12_1            28359\n",
       "lnoa_gr1a           27782\n",
       "debt_me             24688\n",
       "netdebt_me          24688\n",
       "ret_9_1             24302\n",
       "ivol_capm_252d      24047\n",
       "prc_highprc_252d    24047\n",
       "be_me               23607\n",
       "sale_me             22505\n",
       "bidaskhl_21d        22222\n",
       "ni_me               22112\n",
       "ocf_debt            22001\n",
       "ret_6_1             20093\n",
       "ret_6_0             19796\n",
       "inv_gr1a            19160\n",
       "cash_gr1a           17535\n",
       "chcsho_12m          17410\n",
       "debtlt_gr1a         14295\n",
       "ret_1_0             11708\n",
       "be_gr1a             11036\n",
       "sale_gr1            10944\n",
       "tax_gr1a            10143\n",
       "ope_be               8582\n",
       "dbnetis_at           8464\n",
       "at_gr1               8367\n",
       "sale_bev             4863\n",
       "ocf_at               2462\n",
       "ebit_sale            2416\n",
       "ni_be                1691\n",
       "me                      0\n",
       "prc                     0\n",
       "eom                     0\n",
       "ret                     0\n",
       "ret_exc                 0\n",
       "ret_exc_lead1m          0\n",
       "age                     0\n",
       "id                      0\n",
       "dtype: int64"
      ]
     },
     "execution_count": 8,
     "metadata": {},
     "output_type": "execute_result"
    }
   ],
   "source": [
    "pd.set_option('display.max_rows',None)\n",
    "df.isna().sum().sort_values(ascending = False)"
   ]
  },
  {
   "cell_type": "markdown",
   "metadata": {},
   "source": [
    "- Replace the missing valuues with the cross-sectional median at each month\n"
   ]
  },
  {
   "cell_type": "code",
   "execution_count": 9,
   "metadata": {},
   "outputs": [],
   "source": [
    "df = df.fillna(df.groupby('eom').transform('median'))"
   ]
  },
  {
   "cell_type": "markdown",
   "metadata": {},
   "source": [
    "-  Drop all observations for which there are still missing values"
   ]
  },
  {
   "cell_type": "code",
   "execution_count": 10,
   "metadata": {},
   "outputs": [],
   "source": [
    "df.dropna(inplace=True)"
   ]
  },
  {
   "cell_type": "markdown",
   "metadata": {},
   "source": [
    "- There are 214,016 observations left"
   ]
  },
  {
   "cell_type": "code",
   "execution_count": 11,
   "metadata": {},
   "outputs": [
    {
     "name": "stdout",
     "output_type": "stream",
     "text": [
      "214016\n"
     ]
    }
   ],
   "source": [
    "print(len(df))"
   ]
  },
  {
   "cell_type": "code",
   "execution_count": 12,
   "metadata": {
    "jupyter": {
     "outputs_hidden": true
    },
    "scrolled": true
   },
   "outputs": [
    {
     "data": {
      "text/plain": [
       "id                  0\n",
       "dsale_drec          0\n",
       "ni_be               0\n",
       "ocf_debt            0\n",
       "cash_gr1a           0\n",
       "at_gr1              0\n",
       "chcsho_12m          0\n",
       "ca_cl               0\n",
       "ivol_capm_252d      0\n",
       "debt_gr1            0\n",
       "debtlt_gr1a         0\n",
       "ope_be              0\n",
       "caliq_cl            0\n",
       "f_score             0\n",
       "ret_9_1             0\n",
       "rvol_21d            0\n",
       "gp_bev              0\n",
       "cowc_gr1a           0\n",
       "pi_nix              0\n",
       "ret_6_0             0\n",
       "ret_1_0             0\n",
       "noa_at              0\n",
       "cop_atl1            0\n",
       "prc_highprc_252d    0\n",
       "ocf_at              0\n",
       "dbnetis_at          0\n",
       "ret_12_7            0\n",
       "bidaskhl_21d        0\n",
       "eom                 0\n",
       "sale_gr3            0\n",
       "prc                 0\n",
       "me                  0\n",
       "ret                 0\n",
       "ret_exc             0\n",
       "ret_exc_lead1m      0\n",
       "ret_6_1             0\n",
       "ret_12_1            0\n",
       "tax_gr1a            0\n",
       "be_me               0\n",
       "debt_me             0\n",
       "ni_me               0\n",
       "sale_gr1            0\n",
       "rmax1_21d           0\n",
       "sale_me             0\n",
       "lnoa_gr1a           0\n",
       "inv_gr1a            0\n",
       "oaccruals_at        0\n",
       "taccruals_at        0\n",
       "be_gr1a             0\n",
       "taccruals_ni        0\n",
       "ebit_sale           0\n",
       "sale_bev            0\n",
       "age                 0\n",
       "beta_60m            0\n",
       "netdebt_me          0\n",
       "dtype: int64"
      ]
     },
     "execution_count": 12,
     "metadata": {},
     "output_type": "execute_result"
    }
   ],
   "source": [
    "pd.set_option('display.max_rows',None)\n",
    "df.isna().sum().sort_values(ascending = False)"
   ]
  },
  {
   "cell_type": "markdown",
   "metadata": {},
   "source": [
    "## Explore the data before treating \n"
   ]
  },
  {
   "cell_type": "code",
   "execution_count": 13,
   "metadata": {},
   "outputs": [],
   "source": [
    "df = df.sort_values(by=['eom', \"id\"])"
   ]
  },
  {
   "cell_type": "code",
   "execution_count": 16,
   "metadata": {},
   "outputs": [],
   "source": [
    "#start from 2003--> first year with complete data for all months\n",
    "df = df[~(df['eom'] < '2003-01-31')]"
   ]
  },
  {
   "cell_type": "code",
   "execution_count": 17,
   "metadata": {},
   "outputs": [
    {
     "name": "stdout",
     "output_type": "stream",
     "text": [
      "216\n"
     ]
    }
   ],
   "source": [
    "#the new observation period contains 18 years (2016 Months) form 01.2003 to 12.2020 \n",
    "print(df['eom'].nunique())"
   ]
  },
  {
   "cell_type": "code",
   "execution_count": 18,
   "metadata": {},
   "outputs": [
    {
     "name": "stdout",
     "output_type": "stream",
     "text": [
      "1855\n"
     ]
    }
   ],
   "source": [
    "#There are 1855 unique german stocks\n",
    "print(df['id'].nunique())"
   ]
  },
  {
   "cell_type": "code",
   "execution_count": 19,
   "metadata": {
    "jupyter": {
     "outputs_hidden": true
    }
   },
   "outputs": [
    {
     "name": "stdout",
     "output_type": "stream",
     "text": [
      "<class 'pandas.core.frame.DataFrame'>\n",
      "Int64Index: 156948 entries, 42 to 360494\n",
      "Data columns (total 55 columns):\n",
      " #   Column            Non-Null Count   Dtype         \n",
      "---  ------            --------------   -----         \n",
      " 0   id                156948 non-null  object        \n",
      " 1   eom               156948 non-null  datetime64[ns]\n",
      " 2   prc               156948 non-null  float64       \n",
      " 3   me                156948 non-null  float64       \n",
      " 4   ret               156948 non-null  float64       \n",
      " 5   ret_exc           156948 non-null  float64       \n",
      " 6   ret_exc_lead1m    156948 non-null  float64       \n",
      " 7   ret_6_1           156948 non-null  float64       \n",
      " 8   ret_12_1          156948 non-null  float64       \n",
      " 9   tax_gr1a          156948 non-null  float64       \n",
      " 10  be_me             156948 non-null  float64       \n",
      " 11  debt_me           156948 non-null  float64       \n",
      " 12  ni_me             156948 non-null  float64       \n",
      " 13  sale_gr3          156948 non-null  float64       \n",
      " 14  sale_gr1          156948 non-null  float64       \n",
      " 15  sale_me           156948 non-null  float64       \n",
      " 16  lnoa_gr1a         156948 non-null  float64       \n",
      " 17  inv_gr1a          156948 non-null  float64       \n",
      " 18  oaccruals_at      156948 non-null  float64       \n",
      " 19  taccruals_at      156948 non-null  float64       \n",
      " 20  be_gr1a           156948 non-null  float64       \n",
      " 21  taccruals_ni      156948 non-null  float64       \n",
      " 22  ebit_sale         156948 non-null  float64       \n",
      " 23  sale_bev          156948 non-null  float64       \n",
      " 24  age               156948 non-null  int64         \n",
      " 25  beta_60m          156948 non-null  float64       \n",
      " 26  rmax1_21d         156948 non-null  float64       \n",
      " 27  bidaskhl_21d      156948 non-null  float64       \n",
      " 28  ret_9_1           156948 non-null  float64       \n",
      " 29  ret_12_7          156948 non-null  float64       \n",
      " 30  ni_be             156948 non-null  float64       \n",
      " 31  ocf_debt          156948 non-null  float64       \n",
      " 32  cash_gr1a         156948 non-null  float64       \n",
      " 33  at_gr1            156948 non-null  float64       \n",
      " 34  chcsho_12m        156948 non-null  float64       \n",
      " 35  ca_cl             156948 non-null  float64       \n",
      " 36  ivol_capm_252d    156948 non-null  float64       \n",
      " 37  debt_gr1          156948 non-null  float64       \n",
      " 38  debtlt_gr1a       156948 non-null  float64       \n",
      " 39  ope_be            156948 non-null  float64       \n",
      " 40  caliq_cl          156948 non-null  float64       \n",
      " 41  dsale_drec        156948 non-null  float64       \n",
      " 42  f_score           156948 non-null  float64       \n",
      " 43  rvol_21d          156948 non-null  float64       \n",
      " 44  gp_bev            156948 non-null  float64       \n",
      " 45  cowc_gr1a         156948 non-null  float64       \n",
      " 46  pi_nix            156948 non-null  float64       \n",
      " 47  ret_6_0           156948 non-null  float64       \n",
      " 48  ret_1_0           156948 non-null  float64       \n",
      " 49  noa_at            156948 non-null  float64       \n",
      " 50  cop_atl1          156948 non-null  float64       \n",
      " 51  prc_highprc_252d  156948 non-null  float64       \n",
      " 52  ocf_at            156948 non-null  float64       \n",
      " 53  dbnetis_at        156948 non-null  float64       \n",
      " 54  netdebt_me        156948 non-null  float64       \n",
      "dtypes: datetime64[ns](1), float64(52), int64(1), object(1)\n",
      "memory usage: 67.1+ MB\n"
     ]
    }
   ],
   "source": [
    "#Inspect variable types\n",
    "df.info(verbose=True)"
   ]
  },
  {
   "cell_type": "markdown",
   "metadata": {},
   "source": [
    "### Treating outliers\n",
    "\n",
    "All monthly firm characteristics are winsorized at the 1% and 99% levels to ensure that the results are insensitive to outliers. In contrast to Gu, Kelly, and Xiu (2020), the dependent variable is also winsorized"
   ]
  },
  {
   "cell_type": "code",
   "execution_count": 134,
   "metadata": {},
   "outputs": [],
   "source": [
    "variables = df.columns[~df.columns.isin([\"eom\",'id'])].tolist()\n",
    "df[variables] = df[variables].apply(lambda x: x.clip(*x.quantile([0.01, 0.99])))"
   ]
  },
  {
   "cell_type": "code",
   "execution_count": 135,
   "metadata": {},
   "outputs": [],
   "source": [
    "#Save dataset:\n",
    "df.to_csv(r'C:\\Users\\krist\\Documents\\Data\\ger_factor_data_from2003.csv', index = False)"
   ]
  }
 ],
 "metadata": {
  "kernelspec": {
   "display_name": "Python 3 (ipykernel)",
   "language": "python",
   "name": "python3"
  },
  "language_info": {
   "codemirror_mode": {
    "name": "ipython",
    "version": 3
   },
   "file_extension": ".py",
   "mimetype": "text/x-python",
   "name": "python",
   "nbconvert_exporter": "python",
   "pygments_lexer": "ipython3",
   "version": "3.9.7"
  }
 },
 "nbformat": 4,
 "nbformat_minor": 4
}
